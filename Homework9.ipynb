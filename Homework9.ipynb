{
 "cells": [
  {
   "cell_type": "markdown",
   "id": "03dd3c62",
   "metadata": {},
   "source": [
    "**Задание 1.**\n",
    "\n",
    "<br>Напишите функцию, которая принимает на вход строку и проверяет, является ли она валидным транспортным номером (1 буква, 3 цифры, 2 буквы, 2–3 цифры). Обратите внимание, что не все буквы кириллического алфавита используются в транспортных номерах.\n",
    "\n",
    "<br>Если номер валиден, то функция должна возвращать отдельно номер и регион.\n",
    "\n",
    "<br>Примеры работы программы:\n",
    "<br>car_id = 'А222BС96’\n",
    "<br>Результат: Номер А222BС валиден. Регион: 96.\n",
    "\n",
    "<br>car_id = 'АБ22ВВ193’\n",
    "<br>Результат: Номер не валиден."
   ]
  },
  {
   "cell_type": "markdown",
   "id": "8a6ce0a8",
   "metadata": {},
   "source": [
    "**Задание 2. — необязательное**\n",
    "\n",
    "<br>Напишите функцию, которая будет удалять все последовательные повторы слов из заданной строки при помощи регулярных выражений.\n",
    "\n",
    "<br>Пример работы программы:\n",
    "\n",
    "<br>some_string = ‘Напишите функцию функцию, которая будет будет будет будет удалять все все все все последовательные повторы слов из из из из заданной строки строки при помощи регулярных выражений’\n",
    "\n",
    "<br>Результат: Напишите функцию, которая будет удалять все последовательные повторы слов из заданной строки при помощи регулярных выражений."
   ]
  },
  {
   "cell_type": "code",
   "execution_count": 1,
   "id": "06560304",
   "metadata": {},
   "outputs": [],
   "source": [
    "import re"
   ]
  },
  {
   "cell_type": "code",
   "execution_count": 2,
   "id": "63dbf5dc",
   "metadata": {},
   "outputs": [],
   "source": [
    "import string\n",
    "check1 = string.ascii_uppercase\n",
    "check2 = 'АЕКМОСТВНРХУ'\n",
    "check = check1 + check2"
   ]
  },
  {
   "cell_type": "code",
   "execution_count": 3,
   "id": "31c1faaa",
   "metadata": {},
   "outputs": [],
   "source": [
    "# функция проверки номера на валидность\n",
    "def valid_car_id(text):\n",
    "    regex_text = r'(\\w)(\\d{3})(\\w{2})(\\d{2,3})'\n",
    "    text_result = re.findall(regex_text, text)\n",
    "    if text_result != [] and all((text_result[0][0] in check, text_result[0][2][0] in check, text_result[0][2][1] in check)):\n",
    "        print(f\"Номер {text[0:len(text)-len(text_result[0][3])]} валиден. Регион: {text_result[0][3]}.\")\n",
    "        return\n",
    "    print(\"Номер не валиден\")\n",
    "    return"
   ]
  },
  {
   "cell_type": "code",
   "execution_count": 4,
   "id": "54885447",
   "metadata": {},
   "outputs": [],
   "source": [
    "# функция удаления повторов слов\n",
    "def del_rep(text):\n",
    "    return re.sub(r'\\b([^\\W\\d_]+)(\\s+\\1)+\\b', r'\\1', re.sub(r'\\W+', ' ', text).strip(), flags=re.I)"
   ]
  },
  {
   "cell_type": "code",
   "execution_count": 5,
   "id": "fc36d99e",
   "metadata": {},
   "outputs": [],
   "source": [
    "s1 = \"А222СВ96\"\n",
    "s2 = \"АБ22ВВ193\""
   ]
  },
  {
   "cell_type": "code",
   "execution_count": 6,
   "id": "23b2800a",
   "metadata": {},
   "outputs": [
    {
     "name": "stdout",
     "output_type": "stream",
     "text": [
      "Номер А222СВ валиден. Регион: 96.\n"
     ]
    }
   ],
   "source": [
    "valid_car_id(s1)"
   ]
  },
  {
   "cell_type": "code",
   "execution_count": 7,
   "id": "b1884388",
   "metadata": {},
   "outputs": [
    {
     "name": "stdout",
     "output_type": "stream",
     "text": [
      "Номер не валиден\n"
     ]
    }
   ],
   "source": [
    "valid_car_id(s2)"
   ]
  },
  {
   "cell_type": "code",
   "execution_count": 8,
   "id": "c737e240",
   "metadata": {},
   "outputs": [],
   "source": [
    "s3 = 'Напишите функцию функцию, которая будет будет будет будет удалять все все все все последовательные повторы слов из из из из заданной строки строки при помощи регулярных выражений.'"
   ]
  },
  {
   "cell_type": "code",
   "execution_count": 9,
   "id": "8d25e351",
   "metadata": {},
   "outputs": [
    {
     "data": {
      "text/plain": [
       "'Напишите функцию которая будет удалять все последовательные повторы слов из заданной строки при помощи регулярных выражений'"
      ]
     },
     "execution_count": 9,
     "metadata": {},
     "output_type": "execute_result"
    }
   ],
   "source": [
    "del_rep(s3)"
   ]
  },
  {
   "cell_type": "code",
   "execution_count": null,
   "id": "7882fef2",
   "metadata": {},
   "outputs": [],
   "source": []
  }
 ],
 "metadata": {
  "kernelspec": {
   "display_name": "Python 3 (ipykernel)",
   "language": "python",
   "name": "python3"
  },
  "language_info": {
   "codemirror_mode": {
    "name": "ipython",
    "version": 3
   },
   "file_extension": ".py",
   "mimetype": "text/x-python",
   "name": "python",
   "nbconvert_exporter": "python",
   "pygments_lexer": "ipython3",
   "version": "3.9.12"
  },
  "toc": {
   "base_numbering": 1,
   "nav_menu": {},
   "number_sections": true,
   "sideBar": true,
   "skip_h1_title": false,
   "title_cell": "Table of Contents",
   "title_sidebar": "Contents",
   "toc_cell": false,
   "toc_position": {},
   "toc_section_display": true,
   "toc_window_display": false
  }
 },
 "nbformat": 4,
 "nbformat_minor": 5
}
